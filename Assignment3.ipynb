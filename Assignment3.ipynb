{
 "cells": [
  {
   "cell_type": "code",
   "execution_count": 74,
   "metadata": {
    "collapsed": true
   },
   "outputs": [],
   "source": [
    "import pandas as pd\n",
    "import seaborn as sns\n",
    "import matplotlib.pyplot as plt\n",
    "from sklearn import tree\n",
    "from sklearn.preprocessing import LabelEncoder"
   ]
  },
  {
   "cell_type": "code",
   "execution_count": 143,
   "outputs": [
    {
     "data": {
      "text/plain": "     age  Medu  Fedu  traveltime  studytime  failures  famrel  freetime  \\\n0     18     4     4           2          2         0       4         3   \n1     17     1     1           1          2         0       5         3   \n2     15     1     1           1          2         3       4         3   \n3     15     4     2           1          3         0       3         2   \n4     16     3     3           1          2         0       4         3   \n..   ...   ...   ...         ...        ...       ...     ...       ...   \n390   20     2     2           1          2         2       5         5   \n391   17     3     1           2          1         0       2         4   \n392   21     1     1           1          1         3       5         5   \n393   18     3     2           3          1         0       4         4   \n394   19     1     1           1          1         0       3         2   \n\n     goout  Dalc  ...  activities_yes  nursery_no  nursery_yes  higher_no  \\\n0        4     1  ...               0           0            1          0   \n1        3     1  ...               0           1            0          0   \n2        2     2  ...               0           0            1          0   \n3        2     1  ...               1           0            1          0   \n4        2     1  ...               0           0            1          0   \n..     ...   ...  ...             ...         ...          ...        ...   \n390      4     4  ...               0           0            1          0   \n391      5     3  ...               0           1            0          0   \n392      3     3  ...               0           1            0          0   \n393      1     3  ...               0           1            0          0   \n394      3     3  ...               0           0            1          0   \n\n     higher_yes  internet_no  internet_yes  romantic_no  romantic_yes  \\\n0             1            1             0            1             0   \n1             1            0             1            1             0   \n2             1            0             1            1             0   \n3             1            0             1            0             1   \n4             1            1             0            1             0   \n..          ...          ...           ...          ...           ...   \n390           1            1             0            1             0   \n391           1            0             1            1             0   \n392           1            1             0            1             0   \n393           1            0             1            1             0   \n394           1            0             1            1             0   \n\n     Performance  \n0              0  \n1              0  \n2              1  \n3              2  \n4              1  \n..           ...  \n390            1  \n391            2  \n392            0  \n393            1  \n394            1  \n\n[395 rows x 57 columns]",
      "text/html": "<div>\n<style scoped>\n    .dataframe tbody tr th:only-of-type {\n        vertical-align: middle;\n    }\n\n    .dataframe tbody tr th {\n        vertical-align: top;\n    }\n\n    .dataframe thead th {\n        text-align: right;\n    }\n</style>\n<table border=\"1\" class=\"dataframe\">\n  <thead>\n    <tr style=\"text-align: right;\">\n      <th></th>\n      <th>age</th>\n      <th>Medu</th>\n      <th>Fedu</th>\n      <th>traveltime</th>\n      <th>studytime</th>\n      <th>failures</th>\n      <th>famrel</th>\n      <th>freetime</th>\n      <th>goout</th>\n      <th>Dalc</th>\n      <th>...</th>\n      <th>activities_yes</th>\n      <th>nursery_no</th>\n      <th>nursery_yes</th>\n      <th>higher_no</th>\n      <th>higher_yes</th>\n      <th>internet_no</th>\n      <th>internet_yes</th>\n      <th>romantic_no</th>\n      <th>romantic_yes</th>\n      <th>Performance</th>\n    </tr>\n  </thead>\n  <tbody>\n    <tr>\n      <th>0</th>\n      <td>18</td>\n      <td>4</td>\n      <td>4</td>\n      <td>2</td>\n      <td>2</td>\n      <td>0</td>\n      <td>4</td>\n      <td>3</td>\n      <td>4</td>\n      <td>1</td>\n      <td>...</td>\n      <td>0</td>\n      <td>0</td>\n      <td>1</td>\n      <td>0</td>\n      <td>1</td>\n      <td>1</td>\n      <td>0</td>\n      <td>1</td>\n      <td>0</td>\n      <td>0</td>\n    </tr>\n    <tr>\n      <th>1</th>\n      <td>17</td>\n      <td>1</td>\n      <td>1</td>\n      <td>1</td>\n      <td>2</td>\n      <td>0</td>\n      <td>5</td>\n      <td>3</td>\n      <td>3</td>\n      <td>1</td>\n      <td>...</td>\n      <td>0</td>\n      <td>1</td>\n      <td>0</td>\n      <td>0</td>\n      <td>1</td>\n      <td>0</td>\n      <td>1</td>\n      <td>1</td>\n      <td>0</td>\n      <td>0</td>\n    </tr>\n    <tr>\n      <th>2</th>\n      <td>15</td>\n      <td>1</td>\n      <td>1</td>\n      <td>1</td>\n      <td>2</td>\n      <td>3</td>\n      <td>4</td>\n      <td>3</td>\n      <td>2</td>\n      <td>2</td>\n      <td>...</td>\n      <td>0</td>\n      <td>0</td>\n      <td>1</td>\n      <td>0</td>\n      <td>1</td>\n      <td>0</td>\n      <td>1</td>\n      <td>1</td>\n      <td>0</td>\n      <td>1</td>\n    </tr>\n    <tr>\n      <th>3</th>\n      <td>15</td>\n      <td>4</td>\n      <td>2</td>\n      <td>1</td>\n      <td>3</td>\n      <td>0</td>\n      <td>3</td>\n      <td>2</td>\n      <td>2</td>\n      <td>1</td>\n      <td>...</td>\n      <td>1</td>\n      <td>0</td>\n      <td>1</td>\n      <td>0</td>\n      <td>1</td>\n      <td>0</td>\n      <td>1</td>\n      <td>0</td>\n      <td>1</td>\n      <td>2</td>\n    </tr>\n    <tr>\n      <th>4</th>\n      <td>16</td>\n      <td>3</td>\n      <td>3</td>\n      <td>1</td>\n      <td>2</td>\n      <td>0</td>\n      <td>4</td>\n      <td>3</td>\n      <td>2</td>\n      <td>1</td>\n      <td>...</td>\n      <td>0</td>\n      <td>0</td>\n      <td>1</td>\n      <td>0</td>\n      <td>1</td>\n      <td>1</td>\n      <td>0</td>\n      <td>1</td>\n      <td>0</td>\n      <td>1</td>\n    </tr>\n    <tr>\n      <th>...</th>\n      <td>...</td>\n      <td>...</td>\n      <td>...</td>\n      <td>...</td>\n      <td>...</td>\n      <td>...</td>\n      <td>...</td>\n      <td>...</td>\n      <td>...</td>\n      <td>...</td>\n      <td>...</td>\n      <td>...</td>\n      <td>...</td>\n      <td>...</td>\n      <td>...</td>\n      <td>...</td>\n      <td>...</td>\n      <td>...</td>\n      <td>...</td>\n      <td>...</td>\n      <td>...</td>\n    </tr>\n    <tr>\n      <th>390</th>\n      <td>20</td>\n      <td>2</td>\n      <td>2</td>\n      <td>1</td>\n      <td>2</td>\n      <td>2</td>\n      <td>5</td>\n      <td>5</td>\n      <td>4</td>\n      <td>4</td>\n      <td>...</td>\n      <td>0</td>\n      <td>0</td>\n      <td>1</td>\n      <td>0</td>\n      <td>1</td>\n      <td>1</td>\n      <td>0</td>\n      <td>1</td>\n      <td>0</td>\n      <td>1</td>\n    </tr>\n    <tr>\n      <th>391</th>\n      <td>17</td>\n      <td>3</td>\n      <td>1</td>\n      <td>2</td>\n      <td>1</td>\n      <td>0</td>\n      <td>2</td>\n      <td>4</td>\n      <td>5</td>\n      <td>3</td>\n      <td>...</td>\n      <td>0</td>\n      <td>1</td>\n      <td>0</td>\n      <td>0</td>\n      <td>1</td>\n      <td>0</td>\n      <td>1</td>\n      <td>1</td>\n      <td>0</td>\n      <td>2</td>\n    </tr>\n    <tr>\n      <th>392</th>\n      <td>21</td>\n      <td>1</td>\n      <td>1</td>\n      <td>1</td>\n      <td>1</td>\n      <td>3</td>\n      <td>5</td>\n      <td>5</td>\n      <td>3</td>\n      <td>3</td>\n      <td>...</td>\n      <td>0</td>\n      <td>1</td>\n      <td>0</td>\n      <td>0</td>\n      <td>1</td>\n      <td>1</td>\n      <td>0</td>\n      <td>1</td>\n      <td>0</td>\n      <td>0</td>\n    </tr>\n    <tr>\n      <th>393</th>\n      <td>18</td>\n      <td>3</td>\n      <td>2</td>\n      <td>3</td>\n      <td>1</td>\n      <td>0</td>\n      <td>4</td>\n      <td>4</td>\n      <td>1</td>\n      <td>3</td>\n      <td>...</td>\n      <td>0</td>\n      <td>1</td>\n      <td>0</td>\n      <td>0</td>\n      <td>1</td>\n      <td>0</td>\n      <td>1</td>\n      <td>1</td>\n      <td>0</td>\n      <td>1</td>\n    </tr>\n    <tr>\n      <th>394</th>\n      <td>19</td>\n      <td>1</td>\n      <td>1</td>\n      <td>1</td>\n      <td>1</td>\n      <td>0</td>\n      <td>3</td>\n      <td>2</td>\n      <td>3</td>\n      <td>3</td>\n      <td>...</td>\n      <td>0</td>\n      <td>0</td>\n      <td>1</td>\n      <td>0</td>\n      <td>1</td>\n      <td>0</td>\n      <td>1</td>\n      <td>1</td>\n      <td>0</td>\n      <td>1</td>\n    </tr>\n  </tbody>\n</table>\n<p>395 rows × 57 columns</p>\n</div>"
     },
     "execution_count": 143,
     "metadata": {},
     "output_type": "execute_result"
    }
   ],
   "source": [
    "# PREPROCESSING #\n",
    "\n",
    "# Read the csv\n",
    "df = pd.read_csv('student-mat_modified.csv', index_col=0)\n",
    "\n",
    "# transform categorical columns into one hot encodings\n",
    "# first separate the categorical and numeric variables\n",
    "categorical_df = df.select_dtypes(include=['object'])\n",
    "\n",
    "# get numeric data into a separate dataframe\n",
    "numeric_df = df.select_dtypes(exclude=['object'])\n",
    "\n",
    "# Separate performance into separate dataframe before working on categorical data\n",
    "performance = df.Performance\n",
    "\n",
    "# Remove performance from categorical\n",
    "categorical_df.drop(columns=['Performance'], inplace=True)\n",
    "\n",
    "# Convert into dummy variables\n",
    "dummies = pd.get_dummies(categorical_df)\n",
    "\n",
    "df = pd.concat([numeric_df, dummies, performance], axis=1)\n",
    "df['Performance'].replace(['Low', 'Normal', 'High'], [0, 1, 2], inplace=True)\n",
    "df"
   ],
   "metadata": {
    "collapsed": false
   }
  },
  {
   "cell_type": "code",
   "execution_count": 145,
   "outputs": [
    {
     "data": {
      "text/plain": "Performance          1.000000\nfailures             0.337476\nMedu                 0.206765\nhigher_no            0.173215\nhigher_yes           0.173215\ngoout                0.161294\nFedu                 0.161108\nschoolsup_no         0.155479\nschoolsup_yes        0.155479\nage                  0.151199\nMjob_health          0.135820\naddress_U            0.130995\naddress_R            0.130995\nstudytime            0.106561\nMjob_other           0.106108\ntraveltime           0.104555\nreason_course        0.100616\ninternet_no          0.096271\ninternet_yes         0.096271\nWalc                 0.093821\nreason_reputation    0.092132\nguardian_other       0.089194\nFjob_teacher         0.087234\nromantic_no          0.082074\nromantic_yes         0.082074\nhealth               0.074117\nsex_M                0.068119\nsex_F                0.068119\nMjob_at_home         0.068111\npaid_no              0.064543\npaid_yes             0.064543\nMjob_teacher         0.063075\nfamsize_GT3          0.063072\nfamsize_LE3          0.063072\nabsences             0.062375\nfamsup_yes           0.059596\nfamsup_no            0.059596\nFjob_other           0.059444\nDalc                 0.059369\nnursery_yes          0.056976\nnursery_no           0.056976\nguardian_father      0.050467\nschool_GP            0.045188\nschool_MS            0.045188\nFjob_health          0.042530\nactivities_yes       0.041353\nactivities_no        0.041353\nreason_other         0.038624\nMjob_services        0.033473\nPstatus_T            0.032462\nPstatus_A            0.032462\nfamrel               0.031857\nFjob_at_home         0.023134\nfreetime             0.019345\nFjob_services        0.015834\nreason_home          0.007427\nguardian_mother      0.006859\nName: Performance, dtype: float64"
     },
     "execution_count": 145,
     "metadata": {},
     "output_type": "execute_result"
    }
   ],
   "source": [
    "# See correlations between the performance of a student and the categorical variables\n",
    "correlations = df.corr().abs()['Performance'].sort_values(ascending=False)\n",
    "correlations"
   ],
   "metadata": {
    "collapsed": false
   }
  }
 ],
 "metadata": {
  "kernelspec": {
   "display_name": "Python 3",
   "language": "python",
   "name": "python3"
  },
  "language_info": {
   "codemirror_mode": {
    "name": "ipython",
    "version": 2
   },
   "file_extension": ".py",
   "mimetype": "text/x-python",
   "name": "python",
   "nbconvert_exporter": "python",
   "pygments_lexer": "ipython2",
   "version": "2.7.6"
  }
 },
 "nbformat": 4,
 "nbformat_minor": 0
}
